{
 "cells": [
  {
   "cell_type": "code",
   "execution_count": 14,
   "metadata": {},
   "outputs": [
    {
     "data": {
      "text/plain": [
       "True"
      ]
     },
     "execution_count": 14,
     "metadata": {},
     "output_type": "execute_result"
    }
   ],
   "source": [
    "#checking can we scrap website or not \n",
    "import urllib.robotparser\n",
    "\n",
    "rp = urllib.robotparser.RobotFileParser()\n",
    "rp.set_url(\"https://giphy.com/robots.txt\")\n",
    "#rp.set_url(\"https://www.facebook.com/robots.txt\")\n",
    "rp.read()\n",
    "rp.can_fetch(\"*\", \"https://giphy.com\") # So we can scrap this site\n",
    "#rp.can_fetch(\"*\", \"https://www.facebook.com/\") # We can't scrap this site"
   ]
  },
  {
   "cell_type": "code",
   "execution_count": 9,
   "metadata": {},
   "outputs": [],
   "source": [
    "from bs4 import BeautifulSoup\n",
    "from requests import get\n",
    "import pandas as pd\n",
    "import itertools\n",
    "import matplotlib.pyplot as plt\n",
    "import seaborn as sns\n",
    "sns.set()\n",
    "\n",
    "headers = ({'User-Agent':\n",
    "            'Mozilla/5.0 (Windows NT 6.1) AppleWebKit/537.36 (KHTML, like Gecko) Chrome/41.0.2228.0 Safari/537.36'})\n",
    "\n",
    "sapo = \"https://casa.sapo.pt/Venda/Apartamentos/?sa=11&or=10\"\n",
    "response = get(sapo, headers=headers)"
   ]
  },
  {
   "cell_type": "code",
   "execution_count": null,
   "metadata": {},
   "outputs": [],
   "source": [
    "# I have already used scraping in my project\n",
    "# Using time sleep, user-agent and sorting only results that you wanted are a good decisions in my opinion. it's safe for you and data.\n",
    "# I'm not sure what he needs to improve in scraping. Maybe using more filters for data, because now after looking he needs to scrap more than 1000 pages. \n",
    "# The website could have count for this situation. "
   ]
  }
 ],
 "metadata": {
  "kernelspec": {
   "display_name": "Python 3",
   "language": "python",
   "name": "python3"
  },
  "language_info": {
   "codemirror_mode": {
    "name": "ipython",
    "version": 3
   },
   "file_extension": ".py",
   "mimetype": "text/x-python",
   "name": "python",
   "nbconvert_exporter": "python",
   "pygments_lexer": "ipython3",
   "version": "3.7.3"
  }
 },
 "nbformat": 4,
 "nbformat_minor": 2
}
